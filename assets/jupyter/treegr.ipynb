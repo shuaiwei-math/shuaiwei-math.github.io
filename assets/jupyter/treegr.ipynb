{
 "cells": [
  {
   "cell_type": "markdown",
   "metadata": {},
   "source": [
    "# Trees/Graphs\n"
   ]
  },
  {
   "cell_type": "code",
   "execution_count": 169,
   "metadata": {},
   "outputs": [
    {
     "name": "stdout",
     "output_type": "stream",
     "text": [
      "T has 25 edges\n",
      "T has 26 vertices\n"
     ]
    }
   ],
   "source": [
    "# here is a list of edges:\n",
    "T = [('Bob','Eve'),('Alice','Carol'),('Eve','Frank'),('Alice','Doug'),('Frank','Ginger'), \\\n",
    "         ('Eve','Howard'),('Carol','Irene'),('Frank','Jeff'),('Doug','Kathy'),('Bob','Luis'), \\\n",
    "         ('Alice','Bob'),('Bob','Mabel'),('Ginger','Norm'),('Howard','Oprah'),('Carol','Peter'), \\\n",
    "         ('Kathy','Queen'),('Mabel','Ursala'),('Luis','Ronald'),('Ginger','Sarah'),('Irene','Tom'), \\\n",
    "         ('Jeff','Vince'),('Peter','Wanda'),('Oprah','Xanthia'),('Norm','Yaakov'),('Luis','Zandra')]\n",
    "\n",
    "print ('T has',len(T),'edges')\n",
    "vertices = set()\n",
    "for edge in T:\n",
    "    s,t = edge\n",
    "    vertices.add(s)\n",
    "    vertices.add(t)\n",
    "print ('T has',len(vertices),'vertices')"
   ]
  },
  {
   "cell_type": "markdown",
   "metadata": {},
   "source": [
    "So this could be a tree. Now lets compute the number of parents for each vertex. The result confirms that we indeed have a tree and that the root is Alice (right?). Yes."
   ]
  },
  {
   "cell_type": "code",
   "execution_count": 170,
   "metadata": {},
   "outputs": [
    {
     "name": "stdout",
     "output_type": "stream",
     "text": [
      "{'Yaakov': 1, 'Wanda': 1, 'Zandra': 1, 'Tom': 1, 'Carol': 1, 'Ginger': 1, 'Howard': 1, 'Bob': 1, 'Jeff': 1, 'Ursala': 1, 'Kathy': 1, 'Ronald': 1, 'Xanthia': 1, 'Vince': 1, 'Oprah': 1, 'Queen': 1, 'Luis': 1, 'Eve': 1, 'Sarah': 1, 'Norm': 1, 'Mabel': 1, 'Peter': 1, 'Alice': 0, 'Frank': 1, 'Irene': 1, 'Doug': 1}\n"
     ]
    }
   ],
   "source": [
    "np = {}\n",
    "for v in vertices:\n",
    "    np[v] = 0\n",
    "for parent,child in T:\n",
    "    np[child] += 1\n",
    "print (np)"
   ]
  },
  {
   "cell_type": "markdown",
   "metadata": {},
   "source": [
    "We now construct a dictionary of pairs (p,c) where p is the parent of the list of children c"
   ]
  },
  {
   "cell_type": "code",
   "execution_count": 171,
   "metadata": {},
   "outputs": [
    {
     "name": "stdout",
     "output_type": "stream",
     "text": [
      "node and children:\n",
      "Yaakov : []\n",
      "Wanda : []\n",
      "Zandra : []\n",
      "Tom : []\n",
      "Carol : ['Irene', 'Peter']\n",
      "Ginger : ['Norm', 'Sarah']\n",
      "Howard : ['Oprah']\n",
      "Bob : ['Eve', 'Luis', 'Mabel']\n",
      "Jeff : ['Vince']\n",
      "Ursala : []\n",
      "Kathy : ['Queen']\n",
      "Ronald : []\n",
      "Xanthia : []\n",
      "Vince : []\n",
      "Oprah : ['Xanthia']\n",
      "Queen : []\n",
      "Luis : ['Ronald', 'Zandra']\n",
      "Eve : ['Frank', 'Howard']\n",
      "Sarah : []\n",
      "Norm : ['Yaakov']\n",
      "Mabel : ['Ursala']\n",
      "Peter : ['Wanda']\n",
      "Alice : ['Carol', 'Doug', 'Bob']\n",
      "Frank : ['Ginger', 'Jeff']\n",
      "Irene : ['Tom']\n",
      "Doug : ['Kathy']\n",
      "\n",
      "{'Yaakov': [], 'Wanda': [], 'Zandra': [], 'Tom': [], 'Carol': ['Irene', 'Peter'], 'Ginger': ['Norm', 'Sarah'], 'Howard': ['Oprah'], 'Bob': ['Eve', 'Luis', 'Mabel'], 'Jeff': ['Vince'], 'Ursala': [], 'Kathy': ['Queen'], 'Ronald': [], 'Xanthia': [], 'Vince': [], 'Oprah': ['Xanthia'], 'Queen': [], 'Luis': ['Ronald', 'Zandra'], 'Eve': ['Frank', 'Howard'], 'Sarah': [], 'Norm': ['Yaakov'], 'Mabel': ['Ursala'], 'Peter': ['Wanda'], 'Alice': ['Carol', 'Doug', 'Bob'], 'Frank': ['Ginger', 'Jeff'], 'Irene': ['Tom'], 'Doug': ['Kathy']}\n"
     ]
    }
   ],
   "source": [
    "adjacency_map = {}\n",
    "for v in vertices:\n",
    "    adjacency_map[v] = []\n",
    "for p,c in T:\n",
    "    adjacency_map[p].append(c)\n",
    "\n",
    "print (\"node and children:\")\n",
    "for p in adjacency_map:\n",
    "    print (p, \":\", adjacency_map[p])\n",
    "\n",
    "print ()\n",
    "print (adjacency_map)"
   ]
  },
  {
   "cell_type": "code",
   "execution_count": 172,
   "metadata": {},
   "outputs": [
    {
     "name": "stdout",
     "output_type": "stream",
     "text": [
      "Hello!Hello!Hello!Hello!Hello!\n"
     ]
    }
   ],
   "source": [
    "print (5*\"Hello!\")"
   ]
  },
  {
   "cell_type": "code",
   "execution_count": 160,
   "metadata": {},
   "outputs": [
    {
     "name": "stdout",
     "output_type": "stream",
     "text": [
      " Alice\n",
      "   Carol\n",
      "     Irene\n",
      "       Tom\n",
      "     Peter\n",
      "       Wanda\n",
      "   Doug\n",
      "     Kathy\n",
      "       Queen\n",
      "   Bob\n",
      "     Eve\n",
      "       Frank\n",
      "         Ginger\n",
      "           Norm\n",
      "             Yaakov\n",
      "           Sarah\n",
      "         Jeff\n",
      "           Vince\n",
      "       Howard\n",
      "         Oprah\n",
      "           Xanthia\n",
      "     Luis\n",
      "       Ronald\n",
      "       Zandra\n",
      "     Mabel\n",
      "       Ursala\n"
     ]
    }
   ],
   "source": [
    "# A recursive Depth-First traversal of a tree defined by an adjacency_map\n",
    "def print_tree_depth_first(parent, adjacency_map, level=0):\n",
    "    print (level*'  ', parent)\n",
    "    children = adjacency_map[parent]\n",
    "    for child in children:\n",
    "        print_tree_depth_first(child, adjacency_map, level+1)\n",
    "\n",
    "root = 'Alice'\n",
    "print_tree_depth_first(root, adjacency_map)"
   ]
  },
  {
   "cell_type": "markdown",
   "metadata": {
    "collapsed": true
   },
   "source": [
    "## Question 1\n",
    "extend the breadth-first traversal to include the generation, so that the output is like below. Do this by storing a tuple with generation and node in the queue."
   ]
  },
  {
   "cell_type": "raw",
   "metadata": {},
   "source": [
    "1: Alice\n",
    "2: Carol Doug Bob\n",
    "3: ..."
   ]
  },
  {
   "cell_type": "code",
   "execution_count": 173,
   "metadata": {},
   "outputs": [
    {
     "name": "stdout",
     "output_type": "stream",
     "text": [
      "1: Alice\n",
      "2: Carol Doug Bob\n",
      "3: Irene Peter Kathy Eve Luis Mabel\n",
      "4: Tom Wanda Queen Frank Howard Ronald Zandra Ursala\n",
      "5: Ginger Jeff Oprah\n",
      "6: Norm Sarah Vince Xanthia\n",
      "7: Yaakov"
     ]
    }
   ],
   "source": [
    "from collections import deque \n",
    "\n",
    "# breadth-first traversal using a queue\n",
    "def print_tree_breath_first(root, adjacency_map):\n",
    "    Q = deque()\n",
    "    Q.append((1,root))\n",
    "    print(str(1) + \":\", end = \"\")\n",
    "\n",
    "    while len(Q)>0:\n",
    "        index,p = Q.popleft()\n",
    "        children = adjacency_map[p]\n",
    "        print(\" \" + p, end = \"\")\n",
    "        if (len(Q) == 0 and (len(children) > 0)) or (len(Q) > 0 and index != Q[0][0]):\n",
    "            print(\"\\n\" + str(index+1) + \":\", end = \"\")\n",
    "        for child in children:\n",
    "            Q.append((index+1, child))\n",
    "    \n",
    "print_tree_breath_first(\"Alice\", adjacency_map)"
   ]
  },
  {
   "cell_type": "markdown",
   "metadata": {},
   "source": [
    "## Question 2\n",
    "Write a function that checks if for the given directed graph (given by a list of edges E) root is connected to every other vertex."
   ]
  },
  {
   "cell_type": "code",
   "execution_count": 174,
   "metadata": {
    "collapsed": true
   },
   "outputs": [],
   "source": [
    "def all_connected_to(edge_list, root):\n",
    "    \"\"\" return true if you can reach all nodes in the graph given\n",
    "    by a list of edges (edge_list) can be reached by root \"\"\"\n",
    "    \n",
    "    # start by constructing set of vertices and a dictionary for looking up children\n",
    "    vertices = set()\n",
    "    for edge in edge_list:\n",
    "        s,t = edge\n",
    "        vertices.add(s)\n",
    "        vertices.add(t)\n",
    "    adjacency_map = {}\n",
    "\n",
    "    for v in vertices:\n",
    "        adjacency_map[v] = []\n",
    "\n",
    "    for p,c in edge_list:\n",
    "        adjacency_map[p].append(c)\n",
    "\n",
    "    Q = deque()\n",
    "    Q.append(root)\n",
    "    visitedVertices = set()\n",
    "    while len(Q)>0:\n",
    "        p = Q.popleft()\n",
    "        children = adjacency_map[p]\n",
    "        \n",
    "        if p not in visitedVertices:\n",
    "            visitedVertices.add(p)\n",
    "        else:\n",
    "            newChildren = []\n",
    "            for child in children:\n",
    "                if child not in visitedVertices:\n",
    "                    newChildren.append(child)\n",
    "            adjacency_map[p] = newChildren\n",
    "        \n",
    "        for child in children:\n",
    "            Q.append(child)\n",
    "            \n",
    "    if len(visitedVertices) < len(vertices):\n",
    "        return False\n",
    "    return True\n",
    "    \n",
    "    "
   ]
  },
  {
   "cell_type": "code",
   "execution_count": 75,
   "metadata": {},
   "outputs": [
    {
     "name": "stdout",
     "output_type": "stream",
     "text": [
      "True\n",
      "False\n",
      "False\n",
      "True\n",
      "True\n"
     ]
    }
   ],
   "source": [
    "G = [(\"A\",\"B\"), (\"B\",\"C\")]\n",
    "print (all_connected_to(G, \"A\"))\n",
    "G2 = [(\"1\",\"2\"), (\"A\",\"B\"), (\"B\",\"C\"), (\"C\",\"A\")]\n",
    "print (all_connected_to(G2, \"A\"))\n",
    "print (all_connected_to(G2, \"1\"))\n",
    "G3 = [(\"A\",\"B\"), (\"B\",\"C\"), (\"C\",\"A\")]\n",
    "print (all_connected_to(G3, \"C\"))\n",
    "# and our graph from above?\n",
    "print (all_connected_to(T, \"Alice\"))"
   ]
  },
  {
   "cell_type": "markdown",
   "metadata": {},
   "source": [
    "## Question 3\n",
    "We now treat the the graph T from above as undirected (edges going in both directions) and construct a tree rooted in Bob. The tree will contain edges from a vertex to the parent and direct children. The result will tell us how far removed the vertices from our root Bob are."
   ]
  },
  {
   "cell_type": "code",
   "execution_count": 175,
   "metadata": {},
   "outputs": [
    {
     "name": "stdout",
     "output_type": "stream",
     "text": [
      "parents/children of Ginger: ['Frank', 'Norm', 'Sarah']\n",
      "{'Yaakov': ['Norm'], 'Wanda': ['Peter'], 'Zandra': ['Luis'], 'Tom': ['Irene'], 'Carol': ['Alice', 'Irene', 'Peter'], 'Ginger': ['Frank', 'Norm', 'Sarah'], 'Howard': ['Eve', 'Oprah'], 'Bob': ['Eve', 'Luis', 'Alice', 'Mabel'], 'Jeff': ['Frank', 'Vince'], 'Ursala': ['Mabel'], 'Kathy': ['Doug', 'Queen'], 'Ronald': ['Luis'], 'Xanthia': ['Oprah'], 'Vince': ['Jeff'], 'Oprah': ['Howard', 'Xanthia'], 'Queen': ['Kathy'], 'Luis': ['Bob', 'Ronald', 'Zandra'], 'Eve': ['Bob', 'Frank', 'Howard'], 'Sarah': ['Ginger'], 'Norm': ['Ginger', 'Yaakov'], 'Mabel': ['Bob', 'Ursala'], 'Peter': ['Carol', 'Wanda'], 'Alice': ['Carol', 'Doug', 'Bob'], 'Frank': ['Eve', 'Ginger', 'Jeff'], 'Irene': ['Carol', 'Tom'], 'Doug': ['Alice', 'Kathy']}\n",
      "{'Bob': ['Eve', 'Luis', 'Alice', 'Mabel'], 'Eve': ['Frank', 'Howard'], 'Luis': ['Ronald', 'Zandra'], 'Alice': ['Carol', 'Doug'], 'Mabel': ['Ursala'], 'Frank': ['Ginger', 'Jeff'], 'Howard': ['Oprah'], 'Ronald': [], 'Zandra': [], 'Carol': ['Irene', 'Peter'], 'Doug': ['Kathy'], 'Ursala': [], 'Ginger': ['Norm', 'Sarah'], 'Jeff': ['Vince'], 'Oprah': ['Xanthia'], 'Irene': ['Tom'], 'Peter': ['Wanda'], 'Kathy': ['Queen'], 'Norm': ['Yaakov'], 'Sarah': [], 'Vince': [], 'Xanthia': [], 'Tom': [], 'Wanda': [], 'Queen': [], 'Yaakov': []}\n"
     ]
    }
   ],
   "source": [
    "root = 'Bob'\n",
    "\n",
    "# construct adjacency for graph T:\n",
    "adjacency_map = {}\n",
    "\n",
    "for vertex in vertices:\n",
    "    adjacency_map[vertex] = []\n",
    "for edge in T:\n",
    "    s,t = edge\n",
    "    adjacency_map[s].append(t)\n",
    "    adjacency_map[t].append(s)\n",
    "    \n",
    "print (\"parents/children of Ginger:\",adjacency_map['Ginger'])\n",
    "print (adjacency_map)\n",
    "\n",
    "# now create tree as a dictionary \"n maps to children(n)\"\n",
    "tree = {}\n",
    "\n",
    "Q = deque()\n",
    "Q.append(root)\n",
    "\n",
    "# ??? use the queue!\n",
    "visitedVertices = set()\n",
    "while len(Q)>0:\n",
    "    p = Q.popleft()\n",
    "    children = adjacency_map[p]\n",
    "    treeChildren = []   \n",
    "    \n",
    "    if p not in visitedVertices:\n",
    "        visitedVertices.add(p)\n",
    "        for child in children:\n",
    "            if child not in visitedVertices:\n",
    "                treeChildren.append(child)\n",
    "        tree[p] = treeChildren\n",
    "    else:\n",
    "        newChildren = []\n",
    "        for child in children:\n",
    "            if child not in visitedVertices:\n",
    "                newChildren.append(child)\n",
    "        adjacency_map[p] = newChildren\n",
    "    \n",
    "    for child in children:\n",
    "        Q.append(child)\n",
    "\n",
    "print (tree)\n"
   ]
  },
  {
   "cell_type": "markdown",
   "metadata": {},
   "source": [
    "Execute the following two blocks to check your result:"
   ]
  },
  {
   "cell_type": "code",
   "execution_count": 176,
   "metadata": {},
   "outputs": [
    {
     "name": "stdout",
     "output_type": "stream",
     "text": [
      " Bob\n",
      "   Eve\n",
      "     Frank\n",
      "       Ginger\n",
      "         Norm\n",
      "           Yaakov\n",
      "         Sarah\n",
      "       Jeff\n",
      "         Vince\n",
      "     Howard\n",
      "       Oprah\n",
      "         Xanthia\n",
      "   Luis\n",
      "     Ronald\n",
      "     Zandra\n",
      "   Alice\n",
      "     Carol\n",
      "       Irene\n",
      "         Tom\n",
      "       Peter\n",
      "         Wanda\n",
      "     Doug\n",
      "       Kathy\n",
      "         Queen\n",
      "   Mabel\n",
      "     Ursala\n"
     ]
    }
   ],
   "source": [
    "print_tree_depth_first(root, tree)"
   ]
  },
  {
   "cell_type": "code",
   "execution_count": 177,
   "metadata": {},
   "outputs": [
    {
     "name": "stdout",
     "output_type": "stream",
     "text": [
      "1: Bob\n",
      "2: Eve Luis Alice Mabel\n",
      "3: Frank Howard Ronald Zandra Carol Doug Ursala\n",
      "4: Ginger Jeff Oprah Irene Peter Kathy\n",
      "5: Norm Sarah Vince Xanthia Tom Wanda Queen\n",
      "6: Yaakov"
     ]
    }
   ],
   "source": [
    "print_tree_breath_first(root, tree)"
   ]
  },
  {
   "cell_type": "markdown",
   "metadata": {},
   "source": [
    "## Question 4: n queens problem\n",
    "Backtracking is the technique of recursively exploring the tree that contains all the possible solutions to a problem. Choose a systematic way to explore all the possible cases. This approach should reflect a rooted tree, and the backtracking approach is a depth-first search of the rooted tree. Whenever the search has found a solution or determined that there are no further solutions on the branches below the current vertex, backtrack to the preceeding vertex. \n",
    "\n",
    "A classic example of a problem that can be easily solved with this approach is the n queens problem.  This problem is to determine all the possible ways to place n nonattacking queens on an n-by-n chess board. The following code provides two helpful routines for this problem and illustrates one of the solutions for the 4 queens problem."
   ]
  },
  {
   "cell_type": "code",
   "execution_count": 1,
   "metadata": {},
   "outputs": [
    {
     "name": "stdout",
     "output_type": "stream",
     "text": [
      "[[0. 0. 0. 0.]\n",
      " [0. 0. 0. 0.]\n",
      " [0. 0. 0. 0.]\n",
      " [0. 0. 0. 0.]]\n",
      "..Q.\n",
      "Q...\n",
      "...Q\n",
      ".Q..\n",
      "\n"
     ]
    }
   ],
   "source": [
    "import numpy as np\n",
    "\n",
    "def build_chessboard(N):\n",
    "    chessboard = np.zeros((N,N))\n",
    "    return chessboard\n",
    "\n",
    "def print_chessboard(chessboard):\n",
    "    N = len(chessboard)\n",
    "    for r in range(N):\n",
    "        for c in range(N):\n",
    "            if chessboard[r,c] == 1:\n",
    "                print ('Q', end=\"\")\n",
    "            else:\n",
    "                print ('.', end=\"\")\n",
    "        print ()\n",
    "    print ()\n",
    "\n",
    "# generate an empty 4x4 chessboard:\n",
    "chessboard = build_chessboard(4)\n",
    "print (chessboard)\n",
    "\n",
    "# Place 4 non-attacking queens on this board\n",
    "chessboard[1,0] = 1\n",
    "chessboard[3,1] = 1\n",
    "chessboard[0,2] = 1\n",
    "chessboard[2,3] = 1\n",
    "\n",
    "# Pretty print the resulting board\n",
    "print_chessboard(chessboard)"
   ]
  },
  {
   "cell_type": "markdown",
   "metadata": {},
   "source": [
    "Complete the following code to solve the n queens problem by returning the total number of solutions while printing only the first five solutions."
   ]
  },
  {
   "cell_type": "code",
   "execution_count": 2,
   "metadata": {},
   "outputs": [
    {
     "name": "stdout",
     "output_type": "stream",
     "text": [
      "Q.......\n",
      "......Q.\n",
      "....Q...\n",
      ".......Q\n",
      ".Q......\n",
      "...Q....\n",
      ".....Q..\n",
      "..Q.....\n",
      "\n",
      "Q.......\n",
      "......Q.\n",
      "...Q....\n",
      ".....Q..\n",
      ".......Q\n",
      ".Q......\n",
      "....Q...\n",
      "..Q.....\n",
      "\n",
      "Q.......\n",
      ".....Q..\n",
      ".......Q\n",
      "..Q.....\n",
      "......Q.\n",
      "...Q....\n",
      ".Q......\n",
      "....Q...\n",
      "\n",
      "Q.......\n",
      "....Q...\n",
      ".......Q\n",
      ".....Q..\n",
      "..Q.....\n",
      "......Q.\n",
      ".Q......\n",
      "...Q....\n",
      "\n",
      ".....Q..\n",
      "Q.......\n",
      "....Q...\n",
      ".Q......\n",
      ".......Q\n",
      "..Q.....\n",
      "......Q.\n",
      "...Q....\n",
      "\n",
      "solutions:  92\n"
     ]
    }
   ],
   "source": [
    "import copy\n",
    "def n_queens(chessboard, col=0, count=0):\n",
    "    \"\"\" given a partially filled <chessboard>, try to place a queen in column <col> and recursively fill the board.\n",
    "    Finally return the number of solutions (added to <count>)\"\"\"\n",
    "    N = len(chessboard)\n",
    "    if col == N:\n",
    "        if count < 5:\n",
    "            print_chessboard(chessboard)\n",
    "        return count+1\n",
    "    \n",
    "    # Examine all available squares in column <col> (value is 0), place the queen, and \n",
    "    # mark all squares under attack by that queen (use anything except 0 or 1).\n",
    "    # Note: you can make a copy of a chessboard using chessboard.copy()\n",
    "    #\n",
    "    # ????\n",
    "    for i in range(0,N):\n",
    "        newchessboard = chessboard.copy()\n",
    "        if (newchessboard[i,col] == 0):\n",
    "            x = np.ones(N)*2\n",
    "            newchessboard[i,:] = x   \n",
    "            #no need to set column\n",
    "            for j in range(1,min(i+1,N-col)):\n",
    "                newchessboard[i-j, col+j] = 2\n",
    "            for j in range(1,min(N-i,N-col)):\n",
    "                newchessboard[i+j, col+j] = 2\n",
    "            newchessboard[i,col] = 1\n",
    "            \n",
    "            count = n_queens(newchessboard, col+1, count)\n",
    "            \n",
    "    return count\n",
    "\n",
    "chessboard = build_chessboard(8)\n",
    "count = n_queens(chessboard)\n",
    "print (\"solutions: \", count)"
   ]
  },
  {
   "cell_type": "code",
   "execution_count": 3,
   "metadata": {},
   "outputs": [
    {
     "name": "stdout",
     "output_type": "stream",
     "text": [
      "....\n",
      "....\n",
      "....\n",
      "....\n",
      "\n",
      "Q...\n",
      "....\n",
      "....\n",
      "....\n",
      "\n",
      "....\n",
      "....\n",
      "....\n",
      "....\n",
      "\n"
     ]
    }
   ],
   "source": [
    "def test(cb):\n",
    "    cb[0,0]=1\n",
    "    print_chessboard(cb)\n",
    "    \n",
    "chessboard = build_chessboard(4)\n",
    "print_chessboard(chessboard)\n",
    "test(chessboard.copy())# try chessboard.copy() instead\n",
    "print_chessboard(chessboard)  # oooops!"
   ]
  },
  {
   "cell_type": "code",
   "execution_count": 4,
   "metadata": {},
   "outputs": [
    {
     "name": "stdout",
     "output_type": "stream",
     "text": [
      "1\n",
      "2\n",
      "1\n"
     ]
    }
   ],
   "source": [
    "def test(b):\n",
    "    b=b+1\n",
    "    print (b)\n",
    "    \n",
    "n = 1\n",
    "print (n)\n",
    "test(n)\n",
    "print (n)"
   ]
  },
  {
   "cell_type": "code",
   "execution_count": 5,
   "metadata": {},
   "outputs": [
    {
     "name": "stdout",
     "output_type": "stream",
     "text": [
      "[1, 2, 3]\n",
      "[1, 2, 3, 1]\n",
      "[1, 2, 3]\n",
      "[1, 2, 3, 1]\n",
      "[1, 2, 3, 1]\n"
     ]
    }
   ],
   "source": [
    "import copy\n",
    "def test(b):\n",
    "    b.append(1)\n",
    "    print (b)\n",
    "    \n",
    "n = [1,2,3]\n",
    "print (n)\n",
    "test(copy.copy(n)) \n",
    "print (n)\n",
    "test(n)\n",
    "print (n)"
   ]
  },
  {
   "cell_type": "code",
   "execution_count": 6,
   "metadata": {},
   "outputs": [
    {
     "data": {
      "text/plain": [
       "[]"
      ]
     },
     "execution_count": 6,
     "metadata": {},
     "output_type": "execute_result"
    }
   ],
   "source": [
    "import copy\n",
    "a=[]\n",
    "copy.deepcopy(a)"
   ]
  },
  {
   "cell_type": "code",
   "execution_count": 184,
   "metadata": {},
   "outputs": [
    {
     "name": "stdout",
     "output_type": "stream",
     "text": [
      "before: a= [2, 4, [6]]\n",
      "after: a= [2, 4, [7]]  b= [3, 4, [7]]  (using copy)\n",
      "after: a= [2, 4, [6]]  b= [3, 4, [7]]  (using deepcopy)\n"
     ]
    }
   ],
   "source": [
    "import copy\n",
    "\n",
    "# copy makes a copy of the outer-most object, but keeps the same references to the inner\n",
    "# object.\n",
    "a=[2,4,[6]]\n",
    "print (\"before: a=\", a)\n",
    "\n",
    "b=copy.copy(a)\n",
    "b[0]+=1\n",
    "b[2][0]+=1\n",
    "\n",
    "print (\"after: a=\",a,\" b=\", b, \" (using copy)\")\n",
    "\n",
    "# deepcopy also makes a copy of each contained element (recursively)\n",
    "a=[2,4,[6]]\n",
    "b=copy.deepcopy(a)\n",
    "b[0]+=1\n",
    "b[2][0]+=1\n",
    "print (\"after: a=\",a,\" b=\", b, \" (using deepcopy)\")\n"
   ]
  },
  {
   "cell_type": "code",
   "execution_count": null,
   "metadata": {
    "collapsed": true
   },
   "outputs": [],
   "source": []
  }
 ],
 "metadata": {
  "kernelspec": {
   "display_name": "Python 3 (ipykernel)",
   "language": "python",
   "name": "python3"
  },
  "language_info": {
   "codemirror_mode": {
    "name": "ipython",
    "version": 3
   },
   "file_extension": ".py",
   "mimetype": "text/x-python",
   "name": "python",
   "nbconvert_exporter": "python",
   "pygments_lexer": "ipython3",
   "version": "3.10.2"
  },
  "name": "HW05.ipynb"
 },
 "nbformat": 4,
 "nbformat_minor": 1
}
