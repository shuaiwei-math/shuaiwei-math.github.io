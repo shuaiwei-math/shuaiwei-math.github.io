{
 "cells": [
  {
   "cell_type": "markdown",
   "metadata": {},
   "source": [
    "# Graph Plotting and Spanning Trees"
   ]
  },
  {
   "cell_type": "code",
   "execution_count": 95,
   "metadata": {
    "collapsed": false
   },
   "outputs": [
    {
     "name": "stderr",
     "output_type": "stream",
     "text": [
      "/usr/local/share/jupyterhub/env/jupyterhub/lib/python3.6/site-packages/matplotlib/pyplot.py:3316: MatplotlibDeprecationWarning: The 'hold' keyword argument is deprecated since 2.0.\n",
      "  mplDeprecation)\n"
     ]
    },
    {
     "data": {
      "image/png": "[encoded data removed]",
      "text/plain": [
       "<matplotlib.figure.Figure at 0x2b7528a88b00>"
      ]
     },
     "metadata": {},
     "output_type": "display_data"
    }
   ],
   "source": [
    "# this is how you can plot graphs:\n",
    "\n",
    "%matplotlib inline\n",
    "import matplotlib.pyplot as plt\n",
    "import math\n",
    "from collections import deque\n",
    "\n",
    "plt.figure()\n",
    "plt.plot((1,2),(1,1),'b-', hold=True)\n",
    "plt.plot((1,2),(1,1),'ro', hold=True) #x1,x2,y1,y2\n",
    "plt.xlim([0,3])\n",
    "plt.ylim([0,3])\n",
    "plt.show()\n"
   ]
  },
  {
   "cell_type": "code",
   "execution_count": 1,
   "metadata": {
    "collapsed": true
   },
   "outputs": [],
   "source": [
    "class Graph(object):\n",
    "    \"\"\"Represents an undirected graph\"\"\"\n",
    "\n",
    "    def __init__(self, vertices, edges):\n",
    "        '''A graph is defined by its set of vertices\n",
    "           and its set of edges.'''\n",
    "        self.V = set(vertices) # The set of vertices\n",
    "        self.E = set([])       # The set of edges\n",
    "        self.adjacency_map = {}          # A dictionary that will hold the list\n",
    "                               # of adjacent vertices for each vertex.\n",
    "        self.vertex_coordinates = {}       # An optional dictionary that can hold coordinates\n",
    "                               # for the vertices.\n",
    "        self.edge_labels = {}  # a dictionary of labels for edges\n",
    "\n",
    "        self.add_edges(edges)  # Note the call to add_edges will also\n",
    "                               # update the adjacency_map dictionary\n",
    "        print ('(Initializing a graph with %d vertices and %d edges)' % (len(self.V),len(self.E)))\n",
    "\n",
    "\n",
    "    def add_vertices(self,vertex_list):\n",
    "        \"\"\" This method will add the vertices in the vertex_list\n",
    "            to the set of vertices for this graph. Since V is a\n",
    "            set, duplicate vertices will not be added to V. \"\"\"\n",
    "        for v in vertex_list:\n",
    "            self.V.add(v)\n",
    "        self.build_adjacency_map()\n",
    "\n",
    "\n",
    "    def add_edges(self,edge_list):\n",
    "        \"\"\" This method will add a list of edges to the graph\n",
    "            It will insure that the vertices of each edge are\n",
    "            included in the set of vertices (and not duplicated).\n",
    "            It will also insure that edges are added to the\n",
    "            list of edges and not duplicated. \"\"\"\n",
    "        for s,t in edge_list:\n",
    "            if (s,t) not in self.E and (t,s) not in self.E:\n",
    "                self.V.add(s)\n",
    "                self.V.add(t)\n",
    "                self.E.add((s,t))\n",
    "        self.build_adjacency_map()\n",
    "\n",
    "\n",
    "    def build_adjacency_map(self):\n",
    "        self.adjacency_map = {}\n",
    "        for v in self.V:\n",
    "            self.adjacency_map[v] = []\n",
    "        for (s,t) in self.E:\n",
    "            self.adjacency_map[s].append(t)\n",
    "            self.adjacency_map[t].append(s)\n",
    "\n",
    "\n",
    "    def degree_of(self, vertex):\n",
    "        \"\"\" return the degree of the given vertex \"\"\"\n",
    "        if vertex in self.V:\n",
    "            return len(self.adjacency_map[vertex])\n",
    "        else:\n",
    "            return None\n",
    "\n",
    "\n",
    "    def get_a_vertex(self):\n",
    "        \"\"\" returns some vertex of the graph \"\"\"\n",
    "        if 0 < len(self.V):\n",
    "            v = self.V.pop()\n",
    "            self.V.add(v)\n",
    "            return v\n",
    "        else:\n",
    "            return None\n",
    "\n",
    "\n",
    "    def plot(self):\n",
    "        nV = len(self.V)\n",
    "        if len(self.vertex_coordinates) != nV:\n",
    "            # Coordinates have not been specified for every vertex, put them on a circle\n",
    "            dTheta = 2*math.pi/nV\n",
    "            k = 0\n",
    "            for v in self.V:\n",
    "                self.vertex_coordinates[v] = (10*math.cos(math.pi/2-k*dTheta),10*math.sin(math.pi/2-k*dTheta))\n",
    "                k += 1\n",
    "        px = []\n",
    "        py = []\n",
    "        for v in self.V:\n",
    "            px.append(self.vertex_coordinates[v][0])\n",
    "            py.append(self.vertex_coordinates[v][1])\n",
    "        plt.plot(px,py,'bo',hold=True)\n",
    "        for vertex in self.V:\n",
    "            p = self.vertex_coordinates[vertex]\n",
    "            pq = max(0.1,math.sqrt(p[0]**2 + p[1]**2))\n",
    "            rx = p[0]/pq\n",
    "            ry = p[1]/pq\n",
    "            plt.text(p[0]+0.2*rx, p[1]+0.2*ry, str(vertex))\n",
    "        for s,t in self.E:\n",
    "            plt.plot([self.vertex_coordinates[s][0], self.vertex_coordinates[t][0]],\n",
    "                     [self.vertex_coordinates[s][1], self.vertex_coordinates[t][1]],\n",
    "                     'b',hold=True)\n",
    "            if (s,t) in self.edge_labels:\n",
    "                label = self.edge_labels[(s,t)]\n",
    "                plt.text((self.vertex_coordinates[s][0]+self.vertex_coordinates[t][0])/2-0.1,\n",
    "                         (self.vertex_coordinates[s][1]+self.vertex_coordinates[t][1])/2-0.1, label)\n",
    "        plt.xlim(min(px)-1.0, max(px)+1.1)\n",
    "        plt.ylim(min(py)-1.0, max(py)+1.1)\n",
    "\n",
    "    def get_a_component_spanning_tree(self, root):\n",
    "        \"\"\" This routine uses a breadth-first search\n",
    "        to obtain a tree that spans the component\n",
    "        containing root \"\"\"\n",
    "        spanning_tree = []\n",
    "        visited = {}\n",
    "        for v in self.V:\n",
    "            visited[v] = False\n",
    "        Q = deque()\n",
    "        visited[root] = True\n",
    "        Q.append(root)\n",
    "        while 0 < len(Q):\n",
    "            v = Q.popleft()\n",
    "            for u in self.adjacency_map[v]:\n",
    "                if not visited[u]:\n",
    "                    visited[u] = True\n",
    "                    Q.append(u)\n",
    "                    spanning_tree.append((v,u))\n",
    "        return spanning_tree\n",
    "\n",
    "\n",
    "    def is_connected(self):\n",
    "        \"\"\" If the graph is connected then if the tree\n",
    "        returned by get_a_component_spanning_tree has\n",
    "        nV-1 edges - that is, it spans the graph.\"\"\"\n",
    "        root = self.get_a_vertex()\n",
    "        tree = self.get_a_component_spanning_tree(root)\n",
    "        if len(tree) == len(self.V)-1:\n",
    "            return True\n",
    "        else:\n",
    "            return False"
   ]
  },
  {
   "cell_type": "code",
   "execution_count": 3,
   "metadata": {
    "collapsed": false
   },
   "outputs": [
    {
     "name": "stdout",
     "output_type": "stream",
     "text": [
      "(Initializing a graph with 6 vertices and 6 edges)\n",
      "Vertices: {'E', 'F', 'C', 'D', 'A', 'B'}\n",
      "Edges: {('A', 'E'), ('C', 'F'), ('A', 'F'), ('B', 'D'), ('C', 'E'), ('C', 'D')}\n",
      "adjacency: {'E': ['A', 'C'], 'F': ['C', 'A'], 'C': ['F', 'E', 'D'], 'D': ['B', 'C'], 'A': ['E', 'F'], 'B': ['D']}\n",
      "spanning tree of F [('A', 'E'), ('A', 'F'), ('E', 'C'), ('C', 'D'), ('D', 'B')]\n",
      "Is G1 connected? True\n"
     ]
    },
    {
     "name": "stderr",
     "output_type": "stream",
     "text": [
      "/usr/local/share/jupyterhub/env/jupyterhub/lib/python3.6/site-packages/matplotlib/pyplot.py:3316: MatplotlibDeprecationWarning: The 'hold' keyword argument is deprecated since 2.0.\n",
      "  mplDeprecation)\n"
     ]
    },
    {
     "data": {
      "image/png": "[encoded data removed]",
      "text/plain": [
       "<matplotlib.figure.Figure at 0x2b10b8e474a8>"
      ]
     },
     "metadata": {},
     "output_type": "display_data"
    }
   ],
   "source": [
    "V = ['A', 'B', 'C', 'D', 'E', 'F']\n",
    "E = [('A','E'),('C','F'),('B','D'),('A','F'),('C','E'),('C','D')]\n",
    "G1 = Graph(V,E)\n",
    "print ('Vertices:',G1.V)\n",
    "print ('Edges:',G1.E)\n",
    "print ('adjacency:',G1.adjacency_map)\n",
    "G1.edge_labels[('C','F')] = \"hello\"\n",
    "\n",
    "G1.vertex_coordinates = {'A':(1,10),'B':(5,5),'C':(1,-10),'D':(5,-5),'E':(2,1),'F':(-5,1)}\n",
    "G1.plot()\n",
    "tree = G1.get_a_component_spanning_tree('A')\n",
    "print (\"spanning tree of F\",tree)\n",
    "\n",
    "print (\"Is G1 connected?\", G1.is_connected())\n",
    "#\n",
    "for edge in tree:\n",
    "    s,t = edge\n",
    "    xs,ys = G1.vertex_coordinates[s]\n",
    "    xt,yt = G1.vertex_coordinates[t]\n",
    "    plt.plot([xs,xt],[ys,yt],\n",
    "             'r--',hold=True)\n"
   ]
  },
  {
   "cell_type": "code",
   "execution_count": null,
   "metadata": {
    "collapsed": true
   },
   "outputs": [],
   "source": []
  },
  {
   "cell_type": "code",
   "execution_count": 97,
   "metadata": {
    "collapsed": true
   },
   "outputs": [],
   "source": [
    "class PriorityQueue():\n",
    "    '''\n",
    "    The arguments passed to a PriorityQueue must consist of\n",
    "    a priority and an object.  It must be possible to compare\n",
    "    priorities using the < operator.\n",
    "    \n",
    "    push(x) adds x to the priority queue\n",
    "    pop() removes and return the item with the smallest value\n",
    "    '''\n",
    "\n",
    "    def __init__(self):\n",
    "        self._pq = []\n",
    "\n",
    "    def _parent(self,n):\n",
    "        return (n-1)//2\n",
    "\n",
    "    def _leftchild(self,n):\n",
    "        return 2*n + 1\n",
    "\n",
    "    def _rightchild(self,n):\n",
    "        return 2*n + 2\n",
    "\n",
    "    def push(self, priority, object):\n",
    "        self._pq.append((priority, object))\n",
    "        n = len(self._pq) \n",
    "        self._bubble_up(n-1)\n",
    "\n",
    "    def _bubble_up(self,c):\n",
    "        while 0<c:\n",
    "            c_item = self._pq[c]\n",
    "            p = self._parent(c)\n",
    "            p_item = self._pq[p]\n",
    "            # since the parent of 0 is 0, so use \"<\"\n",
    "            if c_item < p_item:\n",
    "                self._pq[p] = c_item\n",
    "                self._pq[c] = p_item\n",
    "                c = p\n",
    "            else:\n",
    "                break\n",
    "\n",
    "    def pop(self):\n",
    "        n = len(self._pq)\n",
    "        if n==0:\n",
    "            obj = None\n",
    "        elif n==1:\n",
    "            pri,obj = self._pq.pop()\n",
    "        else:\n",
    "            pri,obj = self._pq[0]\n",
    "            self._pq[0] = self._pq.pop()\n",
    "            self._sift_down(0)\n",
    "        return obj\n",
    "\n",
    "    def _sift_down(self,p):\n",
    "        n = len(self._pq)\n",
    "        while p<n:\n",
    "            p_item = self._pq[p]\n",
    "            lc = self._leftchild(p)\n",
    "            if n <= lc:\n",
    "                break\n",
    "            c_item = self._pq[lc]\n",
    "            c = lc\n",
    "            rc = self._rightchild(p)\n",
    "            if rc < n:\n",
    "                r_item = self._pq[rc]\n",
    "                if r_item < c_item:\n",
    "                    c_item = r_item\n",
    "                    c = rc\n",
    "            if p_item <= c_item:\n",
    "                break\n",
    "            self._pq[p] = c_item\n",
    "            self._pq[c] = p_item\n",
    "            p = c\n",
    "\n",
    "    def is_empty(self):\n",
    "        return 0 == len(self._pq)"
   ]
  },
  {
   "cell_type": "code",
   "execution_count": 14,
   "metadata": {
    "collapsed": true
   },
   "outputs": [],
   "source": [
    "def Kruskal_version1(G, weights):\n",
    "    ''' Uses the Kruskal algorithm to find the minimum\n",
    "        weighted tree of a connected graph.\n",
    "        If the graph is not connected, the algorithm will\n",
    "        return the minimum weighted forest.\n",
    "\n",
    "        G is the graph, and weights is a dictionary of edges and their weights.\n",
    "        The edges are the keys of the dictionary and the weights are the values.\n",
    "\n",
    "        Version 1 (not efficient)\n",
    "    '''\n",
    "\n",
    "    PQ = PriorityQueue()\n",
    "    for edge in weights:\n",
    "        w = weights[edge]\n",
    "        PQ.push(w,edge)\n",
    "    color = {}\n",
    "    for vertex in G.V:\n",
    "        color[vertex] = 0\n",
    "    nV = len(G.V)\n",
    "    next_color = 1\n",
    "    acyclic_subgraph = []\n",
    "    weight = 0\n",
    "    while not PQ.is_empty() and len(acyclic_subgraph)<(nV-1):\n",
    "        edge = PQ.pop()\n",
    "        s,t = edge\n",
    "        if color[s] == 0 and color[t] == 0:\n",
    "            #1. Add a new tree to the forest\n",
    "            color[s] = next_color\n",
    "            color[t] = next_color\n",
    "            next_color += 1\n",
    "            acyclic_subgraph.append(edge)\n",
    "            weight += weights[edge]\n",
    "\n",
    "        elif color[s] == 0 or color[t] == 0:\n",
    "            #2. Add this edge to the existing tree\n",
    "            if color[s] == 0:\n",
    "                color[s] = color[t]\n",
    "            else:\n",
    "                color[t] = color[s]\n",
    "            acyclic_subgraph.append(edge)\n",
    "            weight += weights[edge]\n",
    "\n",
    "        elif color[s] == color[t]:\n",
    "            #3. Skip this edge since it would form a cycle\n",
    "            pass\n",
    "\n",
    "        else: # color[s] != 0, color[t] != 0, and color[s] != color[t]\n",
    "            #4. Graft one tree onto the other\n",
    "            if color[s] < color[t]:\n",
    "                new_color = color[s]\n",
    "                old_color = color[t]\n",
    "            else:\n",
    "                new_color = color[t]\n",
    "                old_color = color[s]\n",
    "            for v in G.V:\n",
    "                #** Note that this step examines every vertex  ***\n",
    "                #** each time one tree is grafted onto another ***\n",
    "                if color[v] == old_color:\n",
    "                    color[v] = new_color\n",
    "            acyclic_subgraph.append(edge)\n",
    "            weight += weights[edge]\n",
    "\n",
    "    # We have examined all the edges and found the\n",
    "    # largest minimum weighted acyclic subgraph.\n",
    "    # If the graph is connected then it is the MST.\n",
    "    return acyclic_subgraph, weight"
   ]
  },
  {
   "cell_type": "code",
   "execution_count": 98,
   "metadata": {
    "collapsed": false
   },
   "outputs": [
    {
     "name": "stdout",
     "output_type": "stream",
     "text": [
      "(Initializing a graph with 6 vertices and 6 edges)\n",
      "Minimum Spanning Tree: [('C', 'D'), ('B', 'D'), ('C', 'E'), ('A', 'E'), ('A', 'F')]\n"
     ]
    },
    {
     "name": "stderr",
     "output_type": "stream",
     "text": [
      "/usr/local/share/jupyterhub/env/jupyterhub/lib/python3.6/site-packages/matplotlib/pyplot.py:3316: MatplotlibDeprecationWarning: The 'hold' keyword argument is deprecated since 2.0.\n",
      "  mplDeprecation)\n"
     ]
    },
    {
     "data": {
      "image/png": "[encoded data removed]",
      "text/plain": [
       "<matplotlib.figure.Figure at 0x2b7507f09198>"
      ]
     },
     "metadata": {},
     "output_type": "display_data"
    }
   ],
   "source": [
    "V = ['A', 'B', 'C', 'D', 'E', 'F']\n",
    "E = [('A','E'),('C','F'),('B','D'),('A','F'),('C','E'),('C','D')]\n",
    "W1 = {('A','E'):18, ('C','F'):21, ('B','D'):14, ('A','F'):19, ('C','E'):16, ('C','D'):1}\n",
    "G1 = Graph(V,E)\n",
    "G1.vertex_coordinates = {'A':(1,10),'B':(5,5),'C':(1,-10),'D':(5,-5),'E':(2,1),'F':(-5,1)}\n",
    "G1.edge_labels = W1\n",
    "G1.plot()\n",
    "\n",
    "tree,weight = Kruskal_version1(G1,W1)\n",
    "if len(tree)==(len(G1.V)-1):\n",
    "    print ('Minimum Spanning Tree:',tree)\n",
    "else:\n",
    "    print ('Disconnected Acyclic Subgraph:',tree)\n",
    "    print ('Weight:',weight)\n",
    "for edge in tree:\n",
    "    s,t = edge\n",
    "    xs,ys = G1.vertex_coordinates[s]\n",
    "    xt,yt = G1.vertex_coordinates[t]\n",
    "    plt.plot([xs,xt],[ys,yt],\n",
    "             'r--',hold=True)\n"
   ]
  },
  {
   "cell_type": "code",
   "execution_count": 31,
   "metadata": {
    "collapsed": false
   },
   "outputs": [
    {
     "name": "stdout",
     "output_type": "stream",
     "text": [
      "(Initializing a graph with 6 vertices and 7 edges)\n",
      "Minimum Spanning Tree: [('A', 'B'), ('C', 'D'), ('B', 'D'), ('C', 'E'), ('A', 'F')]\n"
     ]
    },
    {
     "name": "stderr",
     "output_type": "stream",
     "text": [
      "/usr/local/share/jupyterhub/env/jupyterhub/lib/python3.6/site-packages/matplotlib/pyplot.py:3316: MatplotlibDeprecationWarning: The 'hold' keyword argument is deprecated since 2.0.\n",
      "  mplDeprecation)\n"
     ]
    },
    {
     "data": {
      "image/png": "[encoded data removed]",
      "text/plain": [
       "<matplotlib.figure.Figure at 0x2b7507f09320>"
      ]
     },
     "metadata": {},
     "output_type": "display_data"
    }
   ],
   "source": [
    "V = ['A', 'B', 'C', 'D', 'E', 'F']\n",
    "E = [('A','B'),('A','E'),('C','F'),('B','D'),('C','D'),('A','F'),('C','E')]\n",
    "W1 = {('A','B'):7, ('A','E'):18, ('C','F'):21, ('C','D'):13, ('B','D'):14, ('A','F'):19, ('C','E'):16}\n",
    "G1 = Graph(V,E)\n",
    "G1.vertex_coordinates = {'A':(1,10),'B':(5,5),'C':(1,-10),'D':(5,-5),'E':(2,1),'F':(-5,1)}\n",
    "G1.edge_labels = W1\n",
    "G1.plot()\n",
    "\n",
    "tree,weight = Kruskal_version1(G1,W1)\n",
    "if len(tree)==(len(G1.V)-1):\n",
    "    print ('Minimum Spanning Tree:',tree)\n",
    "else:\n",
    "    print ('Disconnected Acyclic Subgraph:',tree)\n",
    "    print ('Weight:',weight)\n",
    "for edge in tree:\n",
    "    s,t = edge\n",
    "    xs,ys = G1.vertex_coordinates[s]\n",
    "    xt,yt = G1.vertex_coordinates[t]\n",
    "    plt.plot([xs,xt],[ys,yt],\n",
    "             'r--',hold=True)"
   ]
  },
  {
   "cell_type": "markdown",
   "metadata": {},
   "source": [
    "## Question 1\n",
    "1. implement print_tree() that prints a line of text for each vertex v with arrows how you reach the root if you use find_set(v). Example (from problem above):\n",
    "```\n",
    "A -> B -> D -> E -> F\n",
    "C -> D -> E -> F\n",
    "```\n",
    "2. Implement a function height() that returns the height of the tallest tree (number of edges in the longest chain in the function print_tree())\n",
    "3. Improve the function print_sets() to print each disjoint set grouped using parentheses like this:\n",
    "```\n",
    "(A D C) (B) (E F)\n",
    "```"
   ]
  },
  {
   "cell_type": "code",
   "execution_count": 139,
   "metadata": {
    "collapsed": false
   },
   "outputs": [
    {
     "name": "stdout",
     "output_type": "stream",
     "text": [
      "(A) (B) (C) (D) (X) \n",
      "(A C) (B) (D) (X) \n",
      "(A C D) (B) (X) \n",
      "(A B C D) (X) \n",
      "A -> C -> B \n",
      "B \n",
      "C -> B \n",
      "D -> C -> B \n",
      "X \n",
      "root(A): B\n",
      "A joined with C? True\n",
      "B joined with X? False\n",
      "height: 2\n"
     ]
    }
   ],
   "source": [
    "class DisjointSet(object):\n",
    "    class Link(object):\n",
    "        def __init__(self,x):\n",
    "            self.item = x\n",
    "            self.next = None\n",
    "            \n",
    "    def __init__(self):\n",
    "        self.links = {} # maps each item to its Link\n",
    "        \n",
    "    def insert(self, vertices):\n",
    "        \"\"\" insert the given vertices as isolated sets \"\"\"\n",
    "        for v in vertices:\n",
    "            self.links[v] = self.Link(v)\n",
    "    \n",
    "    def find_set(self, s):\n",
    "        \"\"\" return representative object (find and return the root item) \"\"\"\n",
    "        l = self.links[s]\n",
    "        while l.next != None:\n",
    "            l = l.next\n",
    "        return l.item\n",
    "    \n",
    "    def union(self, s, t):\n",
    "        \"\"\" take the union of the sets than contain s and t \"\"\"\n",
    "        root_s = self.find_set(s)\n",
    "        root_t = self.find_set(t)\n",
    "        if root_s != root_t:\n",
    "            # attach root(s) to root(t):\n",
    "            self.links[root_s].next = self.links[root_t]\n",
    "            \n",
    "    '''\n",
    "    def print_sets(self):        \n",
    "        for item in self.links:\n",
    "            root = self.find_set(item)\n",
    "            if root == item:\n",
    "                print(item, end=\" \")\n",
    "            else:\n",
    "                print(\"%s(root:%s)\"%(item,root), end=\" \")\n",
    "        print(\"\")\n",
    "    '''\n",
    "    \n",
    "    def print_sets(self):  \n",
    "        rootsMaps = {}\n",
    "        for item in self.links:\n",
    "            root = self.find_set(item)\n",
    "            if root in rootsMaps:\n",
    "                rootsMaps[root].append(item)\n",
    "            else:\n",
    "                rootsMaps[root] = [item]\n",
    "\n",
    "        for root in rootsMaps:\n",
    "            print(\"(\" + rootsMaps[root][0], end = \"\")\n",
    "            rootsMaps[root].pop(0)\n",
    "            \n",
    "            for disjointVertexSet in rootsMaps[root]:\n",
    "                print(\" \" + disjointVertexSet, end = \"\")\n",
    "            print(\")\", end = \" \")\n",
    "        print(\"\")\n",
    "\n",
    "    def print_tree(self):        \n",
    "        for item in self.links:\n",
    "            root = self.find_set(item)\n",
    "            l = self.links[item]\n",
    "            print(l.item,end=\" \")\n",
    "            while l.next != None:\n",
    "                l = l.next\n",
    "                print('-> ' + l.item,end=\" \")  \n",
    "            print(\"\")\n",
    "\n",
    "    def height(self):\n",
    "        height = -1\n",
    "        for item in self.links:\n",
    "            root = self.find_set(item)\n",
    "            l = self.links[item]\n",
    "            n = 0\n",
    "            while l.next != None:\n",
    "                l = l.next\n",
    "                n += 1\n",
    "            if n > height:\n",
    "                height = n\n",
    "        return height\n",
    "    \n",
    "ds = DisjointSet()\n",
    "ds.insert([\"A\",\"B\",\"C\",\"D\",\"X\"])\n",
    "ds.print_sets()\n",
    "ds.union(\"A\",\"C\")\n",
    "ds.print_sets()\n",
    "ds.union(\"D\",\"C\")\n",
    "ds.print_sets()\n",
    "ds.union(\"A\",\"B\")\n",
    "ds.print_sets()\n",
    "ds.print_tree()\n",
    "print(\"root(A):\", ds.find_set(\"A\"))\n",
    "print(\"A joined with C?\", ds.find_set(\"A\")==ds.find_set(\"C\"))\n",
    "print(\"B joined with X?\", ds.find_set(\"B\")==ds.find_set(\"X\"))\n",
    "print (\"height:\",ds.height())\n",
    "        "
   ]
  },
  {
   "cell_type": "code",
   "execution_count": 100,
   "metadata": {
    "collapsed": true
   },
   "outputs": [],
   "source": [
    "def KruskalDisjointSet(G, W, ds):\n",
    "    ''' Uses the Kruskal algorithm to find the minimum\n",
    "        weighted tree of a connected graph.\n",
    "        If the graph is not connected, the algorithm will\n",
    "        return the minimum weighted forest.\n",
    "\n",
    "        G is the graph, and W is a dictionary of edges and their weights, \n",
    "        ds is an empty DisjointSet\n",
    "    '''\n",
    "\n",
    "    PQ = PriorityQueue()\n",
    "    for edge in W:\n",
    "        w = W[edge]\n",
    "        PQ.push(w,edge)\n",
    "    \n",
    "    # initialize disjoint set:\n",
    "    ds.insert(G.V)\n",
    "    \n",
    "    acyclic_subgraph = []\n",
    "    weight = 0\n",
    "    n_v = len(G.V)\n",
    "    while not PQ.is_empty() and len(acyclic_subgraph)<(n_v-1):\n",
    "        edge = PQ.pop()\n",
    "        s,t = edge\n",
    "        if ds.find_set(s) != ds.find_set(t):\n",
    "            # s and t are in different sets\n",
    "            ds.union(s,t)\n",
    "            acyclic_subgraph.append(edge)\n",
    "            weight += W[edge]\n",
    "\n",
    "    return acyclic_subgraph, weight"
   ]
  },
  {
   "cell_type": "code",
   "execution_count": 85,
   "metadata": {
    "collapsed": false
   },
   "outputs": [
    {
     "name": "stdout",
     "output_type": "stream",
     "text": [
      "(Initializing a graph with 6 vertices and 7 edges)\n",
      "B -> D -> E -> F \n",
      "C -> D -> E -> F \n",
      "A -> B -> D -> E -> F \n",
      "E -> F \n",
      "F \n",
      "D -> E -> F \n",
      "height: 4\n"
     ]
    },
    {
     "name": "stderr",
     "output_type": "stream",
     "text": [
      "/usr/local/share/jupyterhub/env/jupyterhub/lib/python3.6/site-packages/matplotlib/pyplot.py:3316: MatplotlibDeprecationWarning: The 'hold' keyword argument is deprecated since 2.0.\n",
      "  mplDeprecation)\n"
     ]
    },
    {
     "data": {
      "image/png": "[encoded data removed]",
      "text/plain": [
       "<matplotlib.figure.Figure at 0x2b752b493a90>"
      ]
     },
     "metadata": {},
     "output_type": "display_data"
    }
   ],
   "source": [
    "V = ['A', 'B', 'C', 'D', 'E', 'F']\n",
    "E = [('A','B'),('A','E'),('C','F'),('B','D'),('C','D'),('A','F'),('C','E')]\n",
    "W1 = {('A','B'):7, ('A','E'):18, ('C','F'):21, ('C','D'):13, ('B','D'):14, ('A','F'):19, ('C','E'):16}\n",
    "G1 = Graph(V,E)\n",
    "G1.vertex_coordinates = {'A':(1,10),'B':(5,5),'C':(1,-10),'D':(5,-5),'E':(2,1),'F':(-5,1)}\n",
    "G1.edge_labels = W1\n",
    "G1.plot()\n",
    "\n",
    "ds = DisjointSet()\n",
    "tree,weight = KruskalDisjointSet(G1,W1,ds)\n",
    "for edge in tree:\n",
    "    s,t = edge\n",
    "    xs,ys = G1.vertex_coordinates[s]\n",
    "    xt,yt = G1.vertex_coordinates[t]\n",
    "    plt.plot([xs,xt],[ys,yt],\n",
    "             'r--',hold=True)\n",
    "\n",
    "ds.print_tree()\n",
    "print (\"height:\", ds.height())"
   ]
  },
  {
   "cell_type": "markdown",
   "metadata": {},
   "source": [
    "## Question 2\n",
    "Implement a class DisjointSetWeightedQuickUnion (by copying DisjointSet) that keeps track of the weight (height of the tree at each root node) and attaches the smaller to the taller tree. Execute the block below and check that the height is much smaller."
   ]
  },
  {
   "cell_type": "code",
   "execution_count": 164,
   "metadata": {
    "collapsed": true
   },
   "outputs": [],
   "source": [
    "class DisjointSetWeightedQuickUnion(object):\n",
    "    class Link(object):\n",
    "        def __init__(self,x):\n",
    "            self.item = x\n",
    "            self.next = None\n",
    "            \n",
    "    def __init__(self):\n",
    "        self.heightsMap = {}\n",
    "        self.links = {} # maps each item to its Link\n",
    "        \n",
    "    def insert(self, vertices):\n",
    "        \"\"\" insert the given vertices as isolated sets \"\"\"\n",
    "        for v in vertices:\n",
    "            self.links[v] = self.Link(v)\n",
    "            self.heightsMap[v] = 0\n",
    "    \n",
    "    def find_set(self, s):\n",
    "        \"\"\" return representative object (find and return the root item) \"\"\"\n",
    "        l = self.links[s]\n",
    "        while l.next != None:\n",
    "            l = l.next\n",
    "        return l.item\n",
    "    \n",
    "    def union(self, s, t):\n",
    "        \"\"\" take the union of the sets than contain s and t \"\"\"\n",
    "        root_s = self.find_set(s)\n",
    "        root_t = self.find_set(t)\n",
    "\n",
    "        if root_s != root_t:\n",
    "            # attach root(s) to root(t):\n",
    "            if self.heightsMap[root_s] < self.heightsMap[root_t]:\n",
    "                self.links[root_s].next = self.links[root_t]\n",
    "            elif self.heightsMap[root_s] > self.heightsMap[root_t]:\n",
    "                self.links[root_t].next = self.links[root_s]\n",
    "            else:\n",
    "                self.links[root_s].next = self.links[root_t]\n",
    "                self.heightsMap[root_s] += 1\n",
    "                self.heightsMap[root_t] += 1\n",
    "\n",
    "    '''\n",
    "    def print_sets(self):        \n",
    "        for item in self.links:\n",
    "            root = self.find_set(item)\n",
    "            if root == item:\n",
    "                print(item, end=\" \")\n",
    "            else:\n",
    "                print(\"%s(root:%s)\"%(item,root), end=\" \")\n",
    "        print(\"\")\n",
    "    '''\n",
    "    \n",
    "    def print_sets(self):  \n",
    "        rootsMaps = {}\n",
    "        for item in self.links:\n",
    "            root = self.find_set(item)\n",
    "            if root in rootsMaps:\n",
    "                rootsMaps[root].append(item)\n",
    "            else:\n",
    "                rootsMaps[root] = [item]\n",
    "\n",
    "        for root in rootsMaps:\n",
    "            print(\"(\" + rootsMaps[root][0], end = \"\")\n",
    "            rootsMaps[root].pop(0)\n",
    "            \n",
    "            for disjointVertexSet in rootsMaps[root]:\n",
    "                print(\" \" + disjointVertexSet, end = \"\")\n",
    "            print(\")\", end = \" \")\n",
    "        print(\"\")\n",
    "\n",
    "    def print_tree(self):        \n",
    "        for item in self.links:\n",
    "            root = self.find_set(item)\n",
    "            l = self.links[item]\n",
    "            print(l.item,end=\" \")\n",
    "            while l.next != None:\n",
    "                l = l.next\n",
    "                print('-> ' + l.item,end=\" \")  \n",
    "            print(\"\")\n",
    "\n",
    "    def height(self):\n",
    "        height = -1\n",
    "        for item in self.links:\n",
    "            root = self.find_set(item)\n",
    "            l = self.links[item]\n",
    "            n = 0\n",
    "            while l.next != None:\n",
    "                l = l.next\n",
    "                n += 1\n",
    "            if n > height:\n",
    "                height = n\n",
    "        return height\n",
    "\n"
   ]
  },
  {
   "cell_type": "code",
   "execution_count": 165,
   "metadata": {
    "collapsed": false
   },
   "outputs": [
    {
     "name": "stdout",
     "output_type": "stream",
     "text": [
      "(Initializing a graph with 6 vertices and 7 edges)\n",
      "B -> D \n",
      "C -> D \n",
      "A -> B -> D \n",
      "E -> D \n",
      "F -> D \n",
      "D \n",
      "height: 2\n"
     ]
    },
    {
     "name": "stderr",
     "output_type": "stream",
     "text": [
      "/usr/local/share/jupyterhub/env/jupyterhub/lib/python3.6/site-packages/matplotlib/pyplot.py:3316: MatplotlibDeprecationWarning: The 'hold' keyword argument is deprecated since 2.0.\n",
      "  mplDeprecation)\n"
     ]
    },
    {
     "data": {
      "image/png": "[encoded data removed]",
      "text/plain": [
       "<matplotlib.figure.Figure at 0x2b752b581b38>"
      ]
     },
     "metadata": {},
     "output_type": "display_data"
    }
   ],
   "source": [
    "V = ['A', 'B', 'C', 'D', 'E', 'F']\n",
    "E = [('A','B'),('A','E'),('C','F'),('B','D'),('C','D'),('A','F'),('C','E')]\n",
    "W1 = {('A','B'):7, ('A','E'):18, ('C','F'):21, ('C','D'):13, ('B','D'):14, ('A','F'):19, ('C','E'):16}\n",
    "G1 = Graph(V,E)\n",
    "G1.vertex_coordinates = {'A':(1,10),'B':(5,5),'C':(1,-10),'D':(5,-5),'E':(2,1),'F':(-5,1)}\n",
    "G1.edge_labels = W1\n",
    "G1.plot()\n",
    "\n",
    "ds = DisjointSetWeightedQuickUnion()\n",
    "tree,weight = KruskalDisjointSet(G1,W1,ds)\n",
    "for edge in tree:\n",
    "    s,t = edge\n",
    "    xs,ys = G1.vertex_coordinates[s]\n",
    "    xt,yt = G1.vertex_coordinates[t]\n",
    "    plt.plot([xs,xt],[ys,yt],\n",
    "             'r--',hold=True)\n",
    "\n",
    "ds.print_tree()\n",
    "print (\"height:\", ds.height())"
   ]
  },
  {
   "cell_type": "markdown",
   "metadata": {
    "collapsed": true
   },
   "source": [
    "## Question 3: A more complicated example\n",
    "find a minimum spanning tree and draw it"
   ]
  },
  {
   "cell_type": "code",
   "execution_count": 173,
   "metadata": {
    "collapsed": false
   },
   "outputs": [
    {
     "name": "stdout",
     "output_type": "stream",
     "text": [
      "(Initializing a graph with 23 vertices and 37 edges)\n"
     ]
    },
    {
     "name": "stderr",
     "output_type": "stream",
     "text": [
      "/usr/local/share/jupyterhub/env/jupyterhub/lib/python3.6/site-packages/matplotlib/pyplot.py:3316: MatplotlibDeprecationWarning: The 'hold' keyword argument is deprecated since 2.0.\n",
      "  mplDeprecation)\n"
     ]
    },
    {
     "name": "stdout",
     "output_type": "stream",
     "text": [
      "G -> O \n",
      "M -> R -> S -> O \n",
      "B -> F -> O \n",
      "O \n",
      "N -> O \n",
      "V -> W -> O \n",
      "S -> O \n",
      "I -> K -> S -> O \n",
      "J -> S -> O \n",
      "Q -> S -> O \n",
      "C -> G -> O \n",
      "A -> B -> F -> O \n",
      "H -> U -> O \n",
      "P -> U -> O \n",
      "R -> S -> O \n",
      "W -> O \n",
      "E -> F -> O \n",
      "T -> U -> O \n",
      "F -> O \n",
      "D -> H -> U -> O \n",
      "L -> K -> S -> O \n",
      "K -> S -> O \n",
      "U -> O \n",
      "height: 3\n"
     ]
    },
    {
     "data": {
      "image/png": "[encoded data removed]",
      "text/plain": [
       "<matplotlib.figure.Figure at 0x2b752b403198>"
      ]
     },
     "metadata": {},
     "output_type": "display_data"
    }
   ],
   "source": [
    "WPM =  {('A', 'B'):  2, ('A', 'C'):  8, ('A', 'D'): 10, ('A', 'E'):  5,\\\n",
    "  ('B', 'D'): 14, ('B', 'J'): 17, ('C', 'D'): 12, ('C', 'G'):  3,\\\n",
    "  ('C', 'H'): 10, ('D', 'H'):  4, ('E', 'F'):  2, ('E', 'N'):  6,\\\n",
    "  ('F', 'G'):  6, ('F', 'O'):  6, ('G', 'O'):  4, ('H', 'T'):  8,\\\n",
    "  ('I', 'J'):  8, ('I', 'K'):  4, ('I', 'L'):  6, ('J', 'M'): 10,\\\n",
    "  ('J', 'S'):  6, ('K', 'P'): 12, ('K', 'Q'): 12, ('L', 'M'): 12,\\\n",
    "  ('L', 'Q'):  8, ('M', 'R'):  8, ('N', 'O'):  2, ('N', 'V'):  4,\\\n",
    "  ('O', 'V'): 12, ('P', 'T'):  6, ('P', 'U'):  4, ('Q', 'R'): 10,\\\n",
    "  ('R', 'S'): 12, ('S', 'W'): 13, ('T', 'U'): 14, ('U', 'W'): 10,\\\n",
    "  ('V', 'W'):  2 }\n",
    "PMV = ['A','B','C','D','E','F','G','H','I','J','K','L','M','N','P','Q','R','S','T','U','V','W']\n",
    "PMcoord = {'B':(-3,3),'A':(0,3),'E':(3,3)}\n",
    "PMcoord['J']=(-3,2); PMcoord['D']=(-1,2); PMcoord['C']=(1,2); PMcoord['F']=(2,2)\n",
    "PMcoord['I']=(-1,1); PMcoord['H']=(0,1); PMcoord['G']=(1,1)\n",
    "PMcoord['M']=(-2,0); PMcoord['L']=(-1,0); PMcoord['K']=(0,0); PMcoord['T']=(1,0); PMcoord['O']=(2,0); PMcoord['N']=(3,0)\n",
    "PMcoord['R']=(-2,-1); PMcoord['Q']=(-1,-1); PMcoord['P']=(0,-1); PMcoord['U']=(2,-1)\n",
    "PMcoord['S']=(-3,-2); PMcoord['W']=(0,-2); PMcoord['V']=(3,-2)\n",
    "PMG = Graph([],WPM.keys())\n",
    "PMG.vertex_coordinates = PMcoord\n",
    "PMG.edge_labels = WPM\n",
    "PMG.plot()\n",
    "\n",
    "ds = DisjointSetWeightedQuickUnion()\n",
    "tree,weight = KruskalDisjointSet(PMG,WPM,ds)\n",
    "for edge in tree:\n",
    "    s,t = edge  \n",
    "    xs,ys = PMG.vertex_coordinates[s]\n",
    "    xt,yt = PMG.vertex_coordinates[t]\n",
    "    plt.plot([xs,xt],[ys,yt],\n",
    "             'r--',hold=True)\n",
    "\n",
    "ds.print_tree()\n",
    "print (\"height:\", ds.height())\n"
   ]
  },
  {
   "cell_type": "code",
   "execution_count": null,
   "metadata": {
    "collapsed": true
   },
   "outputs": [],
   "source": []
  }
 ],
 "metadata": {
  "kernelspec": {
   "display_name": "Python 3",
   "language": "python",
   "name": "python3"
  },
  "language_info": {
   "codemirror_mode": {
    "name": "ipython",
    "version": 3
   },
   "file_extension": ".py",
   "mimetype": "text/x-python",
   "name": "python",
   "nbconvert_exporter": "python",
   "pygments_lexer": "ipython3",
   "version": "3.6.0"
  },
  "name": "HW06.ipynb"
 },
 "nbformat": 4,
 "nbformat_minor": 1
}
