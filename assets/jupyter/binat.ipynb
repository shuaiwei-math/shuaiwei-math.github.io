{
 "cells": [
  {
   "cell_type": "markdown",
   "metadata": {},
   "source": [
    "# Binary Trees"
   ]
  },
  {
   "cell_type": "code",
   "execution_count": 7,
   "metadata": {
    "collapsed": true
   },
   "outputs": [],
   "source": [
    "%matplotlib inline\n",
    "import matplotlib.pyplot as plt\n",
    "from pylab import rcParams"
   ]
  },
  {
   "cell_type": "code",
   "execution_count": 34,
   "metadata": {
    "collapsed": true
   },
   "outputs": [],
   "source": [
    "class TreeNode(object):\n",
    "    \"\"\" A node of a binary tree \"\"\"\n",
    "    def __init__(self, data, left_child = None, right_child = None):\n",
    "        self.data = data\n",
    "        self.left = left_child\n",
    "        self.right =right_child\n",
    "    \n",
    "    def traverse_infix(self, result = None):\n",
    "        if result == None:\n",
    "            result = []\n",
    "            \n",
    "        if self.left:\n",
    "            self.left.traverse_infix(result)\n",
    "            \n",
    "        result.append(self.data)\n",
    "        \n",
    "        if self.right:\n",
    "            self.right.traverse_infix(result)\n",
    "            \n",
    "        return result\n",
    "    \n",
    "    def traverse_prefix(self, result = None):\n",
    "        if result == None:\n",
    "            result = []\n",
    "        \n",
    "        result.append(self.data)\n",
    "        \n",
    "        if self.left:\n",
    "            self.left.traverse_prefix(result)\n",
    "            \n",
    "        if self.right:\n",
    "            self.right.traverse_prefix(result)    \n",
    "            \n",
    "        return result\n",
    "   \n",
    "    def traverse_postfix(self, result = None):\n",
    "        if result == None:\n",
    "            result = []\n",
    "            \n",
    "        if self.left:\n",
    "            self.left.traverse_postfix(result)\n",
    "                    \n",
    "        if self.right:\n",
    "            self.right.traverse_postfix(result)\n",
    "            \n",
    "        result.append(self.data)\n",
    "\n",
    "        return result\n",
    " "
   ]
  },
  {
   "cell_type": "code",
   "execution_count": 35,
   "metadata": {
    "collapsed": true
   },
   "outputs": [],
   "source": [
    "# create a graphical representation of a binary tree (plot_tree uses plot_node)\n",
    "def plot_node(node, level = 1, posx = 0, posy = 0):\n",
    "    \n",
    "    width = 2000.0 * (0.5**(level))\n",
    "    plt.text(posx, posy, str(node.data), horizontalalignment='center',fontsize=10)\n",
    "    \n",
    "    if node.left:\n",
    "        px = [posx, posx-width]\n",
    "        py = [posy-2, posy-15]\n",
    "        plt.plot(px,py,'b-',hold=True)\n",
    "        plot_node(node.left, level+1, posx-width, posy-20)\n",
    "    \n",
    "    if node.right:\n",
    "        plot_node(node.right, level+1, posx+width, posy-20)\n",
    "        px = [posx, posx+width]\n",
    "        py = [posy-2, posy-15]\n",
    "        plt.plot(px,py,'b-',hold=True)\n",
    "\n",
    "def plot_tree(node, figsize=(10,6)):\n",
    "    rcParams['figure.figsize'] = figsize\n",
    "    fig, ax = plt.subplots()\n",
    "    ax.axis('off')\n",
    "    plot_node(node)\n",
    "    plt.show()\n"
   ]
  },
  {
   "cell_type": "markdown",
   "metadata": {},
   "source": [
    "## Question 1\n",
    "complete the following recursive function that prints the tree one node per row (in prefix order), with children indented by level"
   ]
  },
  {
   "cell_type": "code",
   "execution_count": 36,
   "metadata": {
    "collapsed": true
   },
   "outputs": [],
   "source": [
    "def print_tree(node, level = 0):\n",
    "    print (level*'   ',node.data)\n",
    "    if node.left:\n",
    "        print_tree(node.left, level + 1)\n",
    "        \n",
    "    if node.right:\n",
    "        print_tree(node.right, level + 1)"
   ]
  },
  {
   "cell_type": "code",
   "execution_count": 37,
   "metadata": {},
   "outputs": [
    {
     "name": "stdout",
     "output_type": "stream",
     "text": [
      "Infix:  ['a']\n",
      "Infix:  ['c', '^', 'd']\n",
      "Infix:  ['b', '*', 'c', '^', 'd']\n",
      "Infix:  ['a', '+', 'b', '*', 'c', '^', 'd']\n",
      " +\n",
      "    a\n",
      "    *\n",
      "       b\n",
      "       ^\n",
      "          c\n",
      "          d\n"
     ]
    },
    {
     "name": "stderr",
     "output_type": "stream",
     "text": [
      "/usr/local/share/jupyterhub/env/jupyterhub/lib/python3.6/site-packages/matplotlib/pyplot.py:3316: MatplotlibDeprecationWarning: The 'hold' keyword argument is deprecated since 2.0.\n",
      "  mplDeprecation)\n"
     ]
    },
    {
     "data": {
      "image/png": "[encoded data removed]",
      "text/plain": [
       "<matplotlib.figure.Figure at 0x2b853ff03550>"
      ]
     },
     "metadata": {},
     "output_type": "display_data"
    }
   ],
   "source": [
    "# generate tree for: a + b * c ^ d\n",
    "a = TreeNode('a')\n",
    "print (\"Infix: \",a.traverse_infix())\n",
    "b = TreeNode('b')\n",
    "c = TreeNode('c')\n",
    "d = TreeNode('d')\n",
    "factor = TreeNode('^',c,d)\n",
    "print (\"Infix: \",factor.traverse_infix())\n",
    "term = TreeNode('*',b,factor)\n",
    "print (\"Infix: \",term.traverse_infix())\n",
    "expr = TreeNode('+',a,term)\n",
    "print (\"Infix: \",expr.traverse_infix())\n",
    "\n",
    "print_tree(expr)\n",
    "plot_tree(expr)"
   ]
  },
  {
   "cell_type": "markdown",
   "metadata": {},
   "source": [
    "## Question 2\n",
    "Generate the expression tree for ((a+b)*c)^d without parentheses"
   ]
  },
  {
   "cell_type": "code",
   "execution_count": 38,
   "metadata": {},
   "outputs": [
    {
     "name": "stdout",
     "output_type": "stream",
     "text": [
      "Infix ['a', '+', 'b', '*', 'c', '^', 'd']\n",
      "Prefix ['^', '*', '+', 'a', 'b', 'c', 'd']\n",
      "Postfix (RPN):  ['a', 'b', '+', 'c', '*', 'd', '^']\n"
     ]
    },
    {
     "name": "stderr",
     "output_type": "stream",
     "text": [
      "/usr/local/share/jupyterhub/env/jupyterhub/lib/python3.6/site-packages/matplotlib/pyplot.py:3316: MatplotlibDeprecationWarning: The 'hold' keyword argument is deprecated since 2.0.\n",
      "  mplDeprecation)\n"
     ]
    },
    {
     "data": {
      "image/png": "[encoded data removed]",
      "text/plain": [
       "<matplotlib.figure.Figure at 0x2b854a308b38>"
      ]
     },
     "metadata": {},
     "output_type": "display_data"
    }
   ],
   "source": [
    "# ((a+b)*c)^d without parentheses\n",
    "a = TreeNode('a')\n",
    "b = TreeNode('b')\n",
    "c = TreeNode('c')\n",
    "d = TreeNode('d')\n",
    "\n",
    "factor = TreeNode('+',a,b)\n",
    "term = TreeNode('*', factor,c)\n",
    "expr = TreeNode('^',term,d)\n",
    "\n",
    "\n",
    "print (\"Infix\",expr.traverse_infix())\n",
    "print (\"Prefix\", expr.traverse_prefix())\n",
    "print (\"Postfix (RPN): \", expr.traverse_postfix())\n",
    "\n",
    "plot_tree(expr)"
   ]
  },
  {
   "cell_type": "markdown",
   "metadata": {},
   "source": [
    "## Question 3: traversal\n",
    "Implement the following function that returns an array with the objects in breadth first order by using a queue. Check your answer!"
   ]
  },
  {
   "cell_type": "code",
   "execution_count": 42,
   "metadata": {},
   "outputs": [
    {
     "name": "stdout",
     "output_type": "stream",
     "text": [
      "breadth-first: ['^', '*', 'd', '+', 'c', 'a', 'b']\n"
     ]
    }
   ],
   "source": [
    "def traverse_breadth_first(node):\n",
    "\n",
    "    from collections import deque\n",
    "    q = deque()\n",
    "    result = []\n",
    "\n",
    "    # ????\n",
    "    q.append(node)\n",
    "    while len(q) > 0:\n",
    "        p = q.popleft()\n",
    "        result.append(p.data)\n",
    "        if p.left:\n",
    "            q.append(p.left)\n",
    "        if p.right:\n",
    "            q.append(p.right)\n",
    "    return result\n",
    "    \n",
    "print (\"breadth-first:\", traverse_breadth_first(expr))"
   ]
  },
  {
   "cell_type": "markdown",
   "metadata": {},
   "source": [
    "Now implement the other traversal functions inside TreeNode and test them here:"
   ]
  },
  {
   "cell_type": "code",
   "execution_count": 43,
   "metadata": {},
   "outputs": [
    {
     "name": "stdout",
     "output_type": "stream",
     "text": [
      "infix: ['a', '+', 'b', '*', 'c', '^', 'd']\n",
      "prefix: ['^', '*', '+', 'a', 'b', 'c', 'd']\n",
      "postfix: ['a', 'b', '+', 'c', '*', 'd', '^']\n",
      "breadth-first: ['^', '*', 'd', '+', 'c', 'a', 'b']\n"
     ]
    },
    {
     "name": "stderr",
     "output_type": "stream",
     "text": [
      "/usr/local/share/jupyterhub/env/jupyterhub/lib/python3.6/site-packages/matplotlib/pyplot.py:3316: MatplotlibDeprecationWarning: The 'hold' keyword argument is deprecated since 2.0.\n",
      "  mplDeprecation)\n"
     ]
    },
    {
     "data": {
      "image/png": "[encoded data removed]",
      "text/plain": [
       "<matplotlib.figure.Figure at 0x2b853fe8cba8>"
      ]
     },
     "metadata": {},
     "output_type": "display_data"
    }
   ],
   "source": [
    "print (\"infix:\", expr.traverse_infix())\n",
    "print (\"prefix:\", expr.traverse_prefix())\n",
    "print (\"postfix:\", expr.traverse_postfix())\n",
    "print (\"breadth-first:\", traverse_breadth_first(expr))\n",
    "plot_tree(expr)"
   ]
  },
  {
   "cell_type": "code",
   "execution_count": 44,
   "metadata": {},
   "outputs": [
    {
     "name": "stdout",
     "output_type": "stream",
     "text": [
      "(((a+b)*c)^d)"
     ]
    }
   ],
   "source": [
    "# Here is a print function that does in-order traversal and adds parenthesis (just run)\n",
    "\n",
    "def print_eqn(node):\n",
    "    if node.left or node.right:\n",
    "        print (\"(\",end=\"\")\n",
    "    if node.left:\n",
    "        print_eqn(node.left)\n",
    "    print (node.data, end=\"\")\n",
    "    if node.right:\n",
    "        print_eqn(node.right)\n",
    "    if node.left or node.right:\n",
    "        print (\")\",end=\"\")\n",
    "    \n",
    "print_eqn(expr)"
   ]
  },
  {
   "cell_type": "markdown",
   "metadata": {},
   "source": [
    "## Question 4: evaluate an expression tree\n",
    "if we plug in numbers for the variables a,b,c, and d, we can compute the result when traversing the tree (instead of just printing the nodes). Complete the compute() function that computes the result of a tree recursively and returns the result."
   ]
  },
  {
   "cell_type": "code",
   "execution_count": 56,
   "metadata": {
    "scrolled": true
   },
   "outputs": [
    {
     "name": "stdout",
     "output_type": "stream",
     "text": [
      "(2+(3*(4^5)))\n",
      "1024\n",
      "3074\n"
     ]
    }
   ],
   "source": [
    "# we replace a,b,c,d by numbers:\n",
    "a = TreeNode(2)\n",
    "b = TreeNode(3)\n",
    "c = TreeNode(4)\n",
    "d = TreeNode(5)\n",
    "\n",
    "factor = TreeNode('^',c,d)\n",
    "term = TreeNode('*',b,factor)\n",
    "expr = TreeNode('+',a,term)\n",
    "\n",
    "print_eqn(expr)\n",
    "print()\n",
    "\n",
    "def compute(node):\n",
    "    # ???\n",
    "    if node.data == '^':\n",
    "        return compute(node.left)**compute(node.right)\n",
    "    elif node.data == '*':\n",
    "        return compute(node.left)*compute(node.right)\n",
    "    elif node.data == '+':\n",
    "        return compute(node.left)+compute(node.right)\n",
    "    else:\n",
    "        return node.data\n",
    "   \n",
    "print (compute(factor))  # 1024 = 4 ^ 5\n",
    "print (compute(expr))\n"
   ]
  },
  {
   "cell_type": "code",
   "execution_count": null,
   "metadata": {
    "collapsed": true
   },
   "outputs": [],
   "source": []
  }
 ],
 "metadata": {
  "kernelspec": {
   "display_name": "Python 3",
   "language": "python",
   "name": "python3"
  },
  "language_info": {
   "codemirror_mode": {
    "name": "ipython",
    "version": 3
   },
   "file_extension": ".py",
   "mimetype": "text/x-python",
   "name": "python",
   "nbconvert_exporter": "python",
   "pygments_lexer": "ipython3",
   "version": "3.6.0"
  },
  "name": "HW08.ipynb"
 },
 "nbformat": 4,
 "nbformat_minor": 1
}
